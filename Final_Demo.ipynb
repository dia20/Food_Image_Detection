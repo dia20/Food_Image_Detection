{
  "nbformat": 4,
  "nbformat_minor": 0,
  "metadata": {
    "colab": {
      "provenance": []
    },
    "kernelspec": {
      "name": "python3",
      "display_name": "Python 3"
    },
    "language_info": {
      "name": "python"
    },
    "accelerator": "GPU",
    "gpuClass": "standard"
  },
  "cells": [
    {
      "cell_type": "code",
      "source": [
        "import numpy as np\n",
        "import pandas as pd\n",
        "from pathlib import Path\n",
        "import os.path\n",
        "import matplotlib.pyplot as plt\n",
        "import tensorflow as tf\n",
        "from tensorflow.keras.preprocessing.image import load_img,img_to_array\n",
        "print(tf.__version__)\n"
      ],
      "metadata": {
        "colab": {
          "base_uri": "https://localhost:8080/"
        },
        "id": "_LA04ePr6uXB",
        "outputId": "6039255f-838d-4741-c52f-5ace9d76e2f0"
      },
      "execution_count": null,
      "outputs": [
        {
          "output_type": "stream",
          "name": "stdout",
          "text": [
            "2.9.2\n"
          ]
        }
      ]
    },
    {
      "cell_type": "code",
      "execution_count": null,
      "metadata": {
        "colab": {
          "base_uri": "https://localhost:8080/",
          "height": 73
        },
        "id": "jviBAby54f8V",
        "outputId": "2bf61bd6-23d2-44a0-813d-89853cccabd3"
      },
      "outputs": [
        {
          "output_type": "display_data",
          "data": {
            "text/plain": [
              "<IPython.core.display.HTML object>"
            ],
            "text/html": [
              "\n",
              "     <input type=\"file\" id=\"files-0f73ee6d-7c8f-4473-9727-789ebf72881a\" name=\"files[]\" multiple disabled\n",
              "        style=\"border:none\" />\n",
              "     <output id=\"result-0f73ee6d-7c8f-4473-9727-789ebf72881a\">\n",
              "      Upload widget is only available when the cell has been executed in the\n",
              "      current browser session. Please rerun this cell to enable.\n",
              "      </output>\n",
              "      <script>// Copyright 2017 Google LLC\n",
              "//\n",
              "// Licensed under the Apache License, Version 2.0 (the \"License\");\n",
              "// you may not use this file except in compliance with the License.\n",
              "// You may obtain a copy of the License at\n",
              "//\n",
              "//      http://www.apache.org/licenses/LICENSE-2.0\n",
              "//\n",
              "// Unless required by applicable law or agreed to in writing, software\n",
              "// distributed under the License is distributed on an \"AS IS\" BASIS,\n",
              "// WITHOUT WARRANTIES OR CONDITIONS OF ANY KIND, either express or implied.\n",
              "// See the License for the specific language governing permissions and\n",
              "// limitations under the License.\n",
              "\n",
              "/**\n",
              " * @fileoverview Helpers for google.colab Python module.\n",
              " */\n",
              "(function(scope) {\n",
              "function span(text, styleAttributes = {}) {\n",
              "  const element = document.createElement('span');\n",
              "  element.textContent = text;\n",
              "  for (const key of Object.keys(styleAttributes)) {\n",
              "    element.style[key] = styleAttributes[key];\n",
              "  }\n",
              "  return element;\n",
              "}\n",
              "\n",
              "// Max number of bytes which will be uploaded at a time.\n",
              "const MAX_PAYLOAD_SIZE = 100 * 1024;\n",
              "\n",
              "function _uploadFiles(inputId, outputId) {\n",
              "  const steps = uploadFilesStep(inputId, outputId);\n",
              "  const outputElement = document.getElementById(outputId);\n",
              "  // Cache steps on the outputElement to make it available for the next call\n",
              "  // to uploadFilesContinue from Python.\n",
              "  outputElement.steps = steps;\n",
              "\n",
              "  return _uploadFilesContinue(outputId);\n",
              "}\n",
              "\n",
              "// This is roughly an async generator (not supported in the browser yet),\n",
              "// where there are multiple asynchronous steps and the Python side is going\n",
              "// to poll for completion of each step.\n",
              "// This uses a Promise to block the python side on completion of each step,\n",
              "// then passes the result of the previous step as the input to the next step.\n",
              "function _uploadFilesContinue(outputId) {\n",
              "  const outputElement = document.getElementById(outputId);\n",
              "  const steps = outputElement.steps;\n",
              "\n",
              "  const next = steps.next(outputElement.lastPromiseValue);\n",
              "  return Promise.resolve(next.value.promise).then((value) => {\n",
              "    // Cache the last promise value to make it available to the next\n",
              "    // step of the generator.\n",
              "    outputElement.lastPromiseValue = value;\n",
              "    return next.value.response;\n",
              "  });\n",
              "}\n",
              "\n",
              "/**\n",
              " * Generator function which is called between each async step of the upload\n",
              " * process.\n",
              " * @param {string} inputId Element ID of the input file picker element.\n",
              " * @param {string} outputId Element ID of the output display.\n",
              " * @return {!Iterable<!Object>} Iterable of next steps.\n",
              " */\n",
              "function* uploadFilesStep(inputId, outputId) {\n",
              "  const inputElement = document.getElementById(inputId);\n",
              "  inputElement.disabled = false;\n",
              "\n",
              "  const outputElement = document.getElementById(outputId);\n",
              "  outputElement.innerHTML = '';\n",
              "\n",
              "  const pickedPromise = new Promise((resolve) => {\n",
              "    inputElement.addEventListener('change', (e) => {\n",
              "      resolve(e.target.files);\n",
              "    });\n",
              "  });\n",
              "\n",
              "  const cancel = document.createElement('button');\n",
              "  inputElement.parentElement.appendChild(cancel);\n",
              "  cancel.textContent = 'Cancel upload';\n",
              "  const cancelPromise = new Promise((resolve) => {\n",
              "    cancel.onclick = () => {\n",
              "      resolve(null);\n",
              "    };\n",
              "  });\n",
              "\n",
              "  // Wait for the user to pick the files.\n",
              "  const files = yield {\n",
              "    promise: Promise.race([pickedPromise, cancelPromise]),\n",
              "    response: {\n",
              "      action: 'starting',\n",
              "    }\n",
              "  };\n",
              "\n",
              "  cancel.remove();\n",
              "\n",
              "  // Disable the input element since further picks are not allowed.\n",
              "  inputElement.disabled = true;\n",
              "\n",
              "  if (!files) {\n",
              "    return {\n",
              "      response: {\n",
              "        action: 'complete',\n",
              "      }\n",
              "    };\n",
              "  }\n",
              "\n",
              "  for (const file of files) {\n",
              "    const li = document.createElement('li');\n",
              "    li.append(span(file.name, {fontWeight: 'bold'}));\n",
              "    li.append(span(\n",
              "        `(${file.type || 'n/a'}) - ${file.size} bytes, ` +\n",
              "        `last modified: ${\n",
              "            file.lastModifiedDate ? file.lastModifiedDate.toLocaleDateString() :\n",
              "                                    'n/a'} - `));\n",
              "    const percent = span('0% done');\n",
              "    li.appendChild(percent);\n",
              "\n",
              "    outputElement.appendChild(li);\n",
              "\n",
              "    const fileDataPromise = new Promise((resolve) => {\n",
              "      const reader = new FileReader();\n",
              "      reader.onload = (e) => {\n",
              "        resolve(e.target.result);\n",
              "      };\n",
              "      reader.readAsArrayBuffer(file);\n",
              "    });\n",
              "    // Wait for the data to be ready.\n",
              "    let fileData = yield {\n",
              "      promise: fileDataPromise,\n",
              "      response: {\n",
              "        action: 'continue',\n",
              "      }\n",
              "    };\n",
              "\n",
              "    // Use a chunked sending to avoid message size limits. See b/62115660.\n",
              "    let position = 0;\n",
              "    do {\n",
              "      const length = Math.min(fileData.byteLength - position, MAX_PAYLOAD_SIZE);\n",
              "      const chunk = new Uint8Array(fileData, position, length);\n",
              "      position += length;\n",
              "\n",
              "      const base64 = btoa(String.fromCharCode.apply(null, chunk));\n",
              "      yield {\n",
              "        response: {\n",
              "          action: 'append',\n",
              "          file: file.name,\n",
              "          data: base64,\n",
              "        },\n",
              "      };\n",
              "\n",
              "      let percentDone = fileData.byteLength === 0 ?\n",
              "          100 :\n",
              "          Math.round((position / fileData.byteLength) * 100);\n",
              "      percent.textContent = `${percentDone}% done`;\n",
              "\n",
              "    } while (position < fileData.byteLength);\n",
              "  }\n",
              "\n",
              "  // All done.\n",
              "  yield {\n",
              "    response: {\n",
              "      action: 'complete',\n",
              "    }\n",
              "  };\n",
              "}\n",
              "\n",
              "scope.google = scope.google || {};\n",
              "scope.google.colab = scope.google.colab || {};\n",
              "scope.google.colab._files = {\n",
              "  _uploadFiles,\n",
              "  _uploadFilesContinue,\n",
              "};\n",
              "})(self);\n",
              "</script> "
            ]
          },
          "metadata": {}
        },
        {
          "output_type": "stream",
          "name": "stdout",
          "text": [
            "Saving final.zip to final.zip\n"
          ]
        }
      ],
      "source": [
        "from google.colab import files\n",
        "uploaded = files.upload()"
      ]
    },
    {
      "cell_type": "code",
      "source": [
        "import zipfile\n",
        "import io\n",
        "zf = zipfile.ZipFile(io.BytesIO(uploaded['final.zip']), \"r\")\n",
        "zf.extractall()"
      ],
      "metadata": {
        "id": "GO9kT2fx6sej"
      },
      "execution_count": null,
      "outputs": []
    },
    {
      "cell_type": "code",
      "source": [
        "# Create a list with the filepaths for training and testing\n",
        "train_dir = Path('../content/final/train')\n",
        "train_filepaths = list(train_dir.glob(r'**/*.jpg'))\n",
        "\n",
        "test_dir = Path('../content/final/test')\n",
        "test_filepaths = list(test_dir.glob(r'**/*.jpg'))\n",
        "\n",
        "val_dir = Path('../content/final/validation')\n",
        "val_filepaths = list(test_dir.glob(r'**/*.jpg'))\n",
        "\n",
        "upload_dir = Path('../content/final/upload_images')\n",
        "val_filepaths = list(upload_dir.glob(r'**/*.jpg'))"
      ],
      "metadata": {
        "id": "i_Qb8X2997ta"
      },
      "execution_count": 55,
      "outputs": []
    },
    {
      "cell_type": "code",
      "source": [
        "\n",
        "def image_processing(filepath):\n",
        "    \"\"\" Create a DataFrame with the filepath and the labels of the pictures\n",
        "    \"\"\"\n",
        "\n",
        "    labels = [str(filepath[i]).split(\"/\")[-2] \\\n",
        "              for i in range(len(filepath))]\n",
        "\n",
        "    filepath = pd.Series(filepath, name='Filepath').astype(str)\n",
        "    labels = pd.Series(labels, name='Label')\n",
        "\n",
        "    # Concatenate filepaths and labels\n",
        "    df = pd.concat([filepath, labels], axis=1)\n",
        "\n",
        "    # Shuffle the DataFrame and reset index\n",
        "    df = df.sample(frac=1).reset_index(drop = True)\n",
        "    \n",
        "    return df\n"
      ],
      "metadata": {
        "id": "dGsWw48G-hGg"
      },
      "execution_count": null,
      "outputs": []
    },
    {
      "cell_type": "code",
      "source": [
        "train_df = image_processing(train_filepaths)\n",
        "test_df = image_processing(test_filepaths)\n",
        "val_df = image_processing(val_filepaths)\n"
      ],
      "metadata": {
        "id": "jzvYTqxO-kIT"
      },
      "execution_count": null,
      "outputs": []
    },
    {
      "cell_type": "code",
      "source": [
        "print('-- Training set --\\n')\n",
        "print(f'Number of pictures: {train_df.shape[0]}\\n')\n",
        "print(f'Number of different labels: {len(train_df.Label.unique())}\\n')\n",
        "print(f'Labels: {train_df.Label.unique()}')"
      ],
      "metadata": {
        "colab": {
          "base_uri": "https://localhost:8080/"
        },
        "id": "69VgTyCq-nRg",
        "outputId": "7fd79ad3-d837-4572-ae56-a1955471869a"
      },
      "execution_count": null,
      "outputs": [
        {
          "output_type": "stream",
          "name": "stdout",
          "text": [
            "-- Training set --\n",
            "\n",
            "Number of pictures: 270\n",
            "\n",
            "Number of different labels: 4\n",
            "\n",
            "Labels: ['banana' 'eggplant' 'apple' 'carrot']\n"
          ]
        }
      ]
    },
    {
      "cell_type": "code",
      "source": [
        "train_df.head(5)"
      ],
      "metadata": {
        "colab": {
          "base_uri": "https://localhost:8080/",
          "height": 206
        },
        "id": "0nKE8sIi-tY2",
        "outputId": "7a1f8345-df4b-4469-acf1-2725bdcbad70"
      },
      "execution_count": null,
      "outputs": [
        {
          "output_type": "execute_result",
          "data": {
            "text/plain": [
              "                                       Filepath     Label\n",
              "0    ../content/final/train/banana/Image_63.jpg    banana\n",
              "1    ../content/final/train/banana/Image_57.jpg    banana\n",
              "2  ../content/final/train/eggplant/Image_67.jpg  eggplant\n",
              "3     ../content/final/train/apple/Image_34.jpg     apple\n",
              "4     ../content/final/train/apple/Image_61.jpg     apple"
            ],
            "text/html": [
              "\n",
              "  <div id=\"df-1d5d6fd6-9ff4-45ac-a81d-3de01c5d4172\">\n",
              "    <div class=\"colab-df-container\">\n",
              "      <div>\n",
              "<style scoped>\n",
              "    .dataframe tbody tr th:only-of-type {\n",
              "        vertical-align: middle;\n",
              "    }\n",
              "\n",
              "    .dataframe tbody tr th {\n",
              "        vertical-align: top;\n",
              "    }\n",
              "\n",
              "    .dataframe thead th {\n",
              "        text-align: right;\n",
              "    }\n",
              "</style>\n",
              "<table border=\"1\" class=\"dataframe\">\n",
              "  <thead>\n",
              "    <tr style=\"text-align: right;\">\n",
              "      <th></th>\n",
              "      <th>Filepath</th>\n",
              "      <th>Label</th>\n",
              "    </tr>\n",
              "  </thead>\n",
              "  <tbody>\n",
              "    <tr>\n",
              "      <th>0</th>\n",
              "      <td>../content/final/train/banana/Image_63.jpg</td>\n",
              "      <td>banana</td>\n",
              "    </tr>\n",
              "    <tr>\n",
              "      <th>1</th>\n",
              "      <td>../content/final/train/banana/Image_57.jpg</td>\n",
              "      <td>banana</td>\n",
              "    </tr>\n",
              "    <tr>\n",
              "      <th>2</th>\n",
              "      <td>../content/final/train/eggplant/Image_67.jpg</td>\n",
              "      <td>eggplant</td>\n",
              "    </tr>\n",
              "    <tr>\n",
              "      <th>3</th>\n",
              "      <td>../content/final/train/apple/Image_34.jpg</td>\n",
              "      <td>apple</td>\n",
              "    </tr>\n",
              "    <tr>\n",
              "      <th>4</th>\n",
              "      <td>../content/final/train/apple/Image_61.jpg</td>\n",
              "      <td>apple</td>\n",
              "    </tr>\n",
              "  </tbody>\n",
              "</table>\n",
              "</div>\n",
              "      <button class=\"colab-df-convert\" onclick=\"convertToInteractive('df-1d5d6fd6-9ff4-45ac-a81d-3de01c5d4172')\"\n",
              "              title=\"Convert this dataframe to an interactive table.\"\n",
              "              style=\"display:none;\">\n",
              "        \n",
              "  <svg xmlns=\"http://www.w3.org/2000/svg\" height=\"24px\"viewBox=\"0 0 24 24\"\n",
              "       width=\"24px\">\n",
              "    <path d=\"M0 0h24v24H0V0z\" fill=\"none\"/>\n",
              "    <path d=\"M18.56 5.44l.94 2.06.94-2.06 2.06-.94-2.06-.94-.94-2.06-.94 2.06-2.06.94zm-11 1L8.5 8.5l.94-2.06 2.06-.94-2.06-.94L8.5 2.5l-.94 2.06-2.06.94zm10 10l.94 2.06.94-2.06 2.06-.94-2.06-.94-.94-2.06-.94 2.06-2.06.94z\"/><path d=\"M17.41 7.96l-1.37-1.37c-.4-.4-.92-.59-1.43-.59-.52 0-1.04.2-1.43.59L10.3 9.45l-7.72 7.72c-.78.78-.78 2.05 0 2.83L4 21.41c.39.39.9.59 1.41.59.51 0 1.02-.2 1.41-.59l7.78-7.78 2.81-2.81c.8-.78.8-2.07 0-2.86zM5.41 20L4 18.59l7.72-7.72 1.47 1.35L5.41 20z\"/>\n",
              "  </svg>\n",
              "      </button>\n",
              "      \n",
              "  <style>\n",
              "    .colab-df-container {\n",
              "      display:flex;\n",
              "      flex-wrap:wrap;\n",
              "      gap: 12px;\n",
              "    }\n",
              "\n",
              "    .colab-df-convert {\n",
              "      background-color: #E8F0FE;\n",
              "      border: none;\n",
              "      border-radius: 50%;\n",
              "      cursor: pointer;\n",
              "      display: none;\n",
              "      fill: #1967D2;\n",
              "      height: 32px;\n",
              "      padding: 0 0 0 0;\n",
              "      width: 32px;\n",
              "    }\n",
              "\n",
              "    .colab-df-convert:hover {\n",
              "      background-color: #E2EBFA;\n",
              "      box-shadow: 0px 1px 2px rgba(60, 64, 67, 0.3), 0px 1px 3px 1px rgba(60, 64, 67, 0.15);\n",
              "      fill: #174EA6;\n",
              "    }\n",
              "\n",
              "    [theme=dark] .colab-df-convert {\n",
              "      background-color: #3B4455;\n",
              "      fill: #D2E3FC;\n",
              "    }\n",
              "\n",
              "    [theme=dark] .colab-df-convert:hover {\n",
              "      background-color: #434B5C;\n",
              "      box-shadow: 0px 1px 3px 1px rgba(0, 0, 0, 0.15);\n",
              "      filter: drop-shadow(0px 1px 2px rgba(0, 0, 0, 0.3));\n",
              "      fill: #FFFFFF;\n",
              "    }\n",
              "  </style>\n",
              "\n",
              "      <script>\n",
              "        const buttonEl =\n",
              "          document.querySelector('#df-1d5d6fd6-9ff4-45ac-a81d-3de01c5d4172 button.colab-df-convert');\n",
              "        buttonEl.style.display =\n",
              "          google.colab.kernel.accessAllowed ? 'block' : 'none';\n",
              "\n",
              "        async function convertToInteractive(key) {\n",
              "          const element = document.querySelector('#df-1d5d6fd6-9ff4-45ac-a81d-3de01c5d4172');\n",
              "          const dataTable =\n",
              "            await google.colab.kernel.invokeFunction('convertToInteractive',\n",
              "                                                     [key], {});\n",
              "          if (!dataTable) return;\n",
              "\n",
              "          const docLinkHtml = 'Like what you see? Visit the ' +\n",
              "            '<a target=\"_blank\" href=https://colab.research.google.com/notebooks/data_table.ipynb>data table notebook</a>'\n",
              "            + ' to learn more about interactive tables.';\n",
              "          element.innerHTML = '';\n",
              "          dataTable['output_type'] = 'display_data';\n",
              "          await google.colab.output.renderOutput(dataTable, element);\n",
              "          const docLink = document.createElement('div');\n",
              "          docLink.innerHTML = docLinkHtml;\n",
              "          element.appendChild(docLink);\n",
              "        }\n",
              "      </script>\n",
              "    </div>\n",
              "  </div>\n",
              "  "
            ]
          },
          "metadata": {},
          "execution_count": 10
        }
      ]
    },
    {
      "cell_type": "code",
      "source": [
        "# Create a DataFrame with one Label of each category\n",
        "df_unique = train_df.copy().drop_duplicates(subset=[\"Label\"]).reset_index()\n",
        "\n",
        "# Display some pictures of the dataset\n",
        "fig, axes = plt.subplots(nrows=1, ncols=4, figsize=(8, 7),\n",
        "                        subplot_kw={'xticks': [], 'yticks': []})\n",
        "\n",
        "for i, ax in enumerate(axes.flat):\n",
        "    ax.imshow(plt.imread(df_unique.Filepath[i]))\n",
        "    ax.set_title(df_unique.Label[i], fontsize = 12)\n",
        "plt.tight_layout(pad=0.5)\n",
        "plt.show()"
      ],
      "metadata": {
        "colab": {
          "base_uri": "https://localhost:8080/",
          "height": 229
        },
        "id": "DUwG2bhy-us1",
        "outputId": "b5afc3a9-72a9-4f95-97b7-76e14d33fcd6"
      },
      "execution_count": null,
      "outputs": [
        {
          "output_type": "display_data",
          "data": {
            "text/plain": [
              "<Figure size 576x504 with 4 Axes>"
            ],
            "image/png": "[encoded data removed]"
          },
          "metadata": {}
        }
      ]
    },
    {
      "cell_type": "code",
      "source": [
        "train_generator = tf.keras.preprocessing.image.ImageDataGenerator(\n",
        "    preprocessing_function=tf.keras.applications.mobilenet_v2.preprocess_input\n",
        ")\n",
        "\n",
        "test_generator = tf.keras.preprocessing.image.ImageDataGenerator(\n",
        "    preprocessing_function=tf.keras.applications.mobilenet_v2.preprocess_input\n",
        ")\n"
      ],
      "metadata": {
        "id": "Woyyx-JV_FV5"
      },
      "execution_count": null,
      "outputs": []
    },
    {
      "cell_type": "code",
      "source": [
        "train_images = train_generator.flow_from_dataframe(\n",
        "    dataframe=train_df,\n",
        "    x_col='Filepath',\n",
        "    y_col='Label',\n",
        "    target_size=(224, 224),\n",
        "    color_mode='rgb',\n",
        "    class_mode='categorical',\n",
        "    batch_size=32,\n",
        "    shuffle=True,\n",
        "    seed=0,\n",
        "    rotation_range=30,\n",
        "    zoom_range=0.15,\n",
        "    width_shift_range=0.2,\n",
        "    height_shift_range=0.2,\n",
        "    shear_range=0.15,\n",
        "    horizontal_flip=True,\n",
        "    fill_mode=\"nearest\"\n",
        ")\n"
      ],
      "metadata": {
        "colab": {
          "base_uri": "https://localhost:8080/"
        },
        "id": "h0OupfRo_JtP",
        "outputId": "76948aff-90ea-49be-d345-3d2264943abc"
      },
      "execution_count": null,
      "outputs": [
        {
          "output_type": "stream",
          "name": "stdout",
          "text": [
            "Found 270 validated image filenames belonging to 4 classes.\n"
          ]
        }
      ]
    },
    {
      "cell_type": "code",
      "source": [
        "val_images = train_generator.flow_from_dataframe(\n",
        "    dataframe=val_df,\n",
        "    x_col='Filepath',\n",
        "    y_col='Label',\n",
        "    target_size=(224, 224),\n",
        "    color_mode='rgb',\n",
        "    class_mode='categorical',\n",
        "    batch_size=32,\n",
        "    shuffle=True,\n",
        "    seed=0,\n",
        "    rotation_range=30,\n",
        "    zoom_range=0.15,\n",
        "    width_shift_range=0.2,\n",
        "    height_shift_range=0.2,\n",
        "    shear_range=0.15,\n",
        "    horizontal_flip=True,\n",
        "    fill_mode=\"nearest\"\n",
        ")\n"
      ],
      "metadata": {
        "colab": {
          "base_uri": "https://localhost:8080/"
        },
        "id": "WvoXwo_v_M3K",
        "outputId": "21515085-52c1-4469-83f3-007ce9e2d5fa"
      },
      "execution_count": null,
      "outputs": [
        {
          "output_type": "stream",
          "name": "stdout",
          "text": [
            "Found 35 validated image filenames belonging to 4 classes.\n"
          ]
        }
      ]
    },
    {
      "cell_type": "code",
      "source": [
        "test_images = test_generator.flow_from_dataframe(\n",
        "    dataframe=test_df,\n",
        "    x_col='Filepath',\n",
        "    y_col='Label',\n",
        "    target_size=(224, 224),\n",
        "    color_mode='rgb',\n",
        "    class_mode='categorical',\n",
        "    batch_size=32,\n",
        "    shuffle=False\n",
        ")\n"
      ],
      "metadata": {
        "colab": {
          "base_uri": "https://localhost:8080/"
        },
        "id": "zZNHtzJ7_UWz",
        "outputId": "3d33530b-35ac-4a31-ead9-a2973be645ea"
      },
      "execution_count": null,
      "outputs": [
        {
          "output_type": "stream",
          "name": "stdout",
          "text": [
            "Found 35 validated image filenames belonging to 4 classes.\n"
          ]
        }
      ]
    },
    {
      "cell_type": "code",
      "source": [
        "\n",
        "pretrained_model = tf.keras.applications.MobileNetV2(\n",
        "    input_shape=(224, 224, 3),\n",
        "    include_top=False,\n",
        "    weights='imagenet',\n",
        "    pooling='avg'\n",
        ")\n",
        "pretrained_model.trainable = False"
      ],
      "metadata": {
        "colab": {
          "base_uri": "https://localhost:8080/"
        },
        "id": "OhD0vDqe_VNy",
        "outputId": "b4afa2b4-c330-420e-fbcb-133ec059f58a"
      },
      "execution_count": null,
      "outputs": [
        {
          "output_type": "stream",
          "name": "stdout",
          "text": [
            "Downloading data from https://storage.googleapis.com/tensorflow/keras-applications/mobilenet_v2/mobilenet_v2_weights_tf_dim_ordering_tf_kernels_1.0_224_no_top.h5\n",
            "9406464/9406464 [==============================] - 0s 0us/step\n"
          ]
        }
      ]
    },
    {
      "cell_type": "code",
      "source": [
        "inputs = pretrained_model.input\n",
        "\n",
        "x = tf.keras.layers.Dense(128, activation='relu')(pretrained_model.output)\n",
        "x = tf.keras.layers.Dense(128, activation='relu')(x)\n",
        "\n",
        "outputs = tf.keras.layers.Dense(4, activation='softmax')(x)\n",
        "\n",
        "model = tf.keras.Model(inputs=inputs, outputs=outputs)\n",
        "\n",
        "model.compile(\n",
        "    optimizer='adam',\n",
        "    loss='categorical_crossentropy',\n",
        "    metrics=['accuracy']\n",
        ")\n",
        "\n",
        "history = model.fit(\n",
        "    train_images,\n",
        "    validation_data=val_images,\n",
        "    batch_size = 32,\n",
        "    epochs=5,\n",
        "    callbacks=[\n",
        "        tf.keras.callbacks.EarlyStopping(\n",
        "            monitor='val_loss',\n",
        "            patience=2,\n",
        "            restore_best_weights=True\n",
        "        )\n",
        "    ]\n",
        ")\n"
      ],
      "metadata": {
        "colab": {
          "base_uri": "https://localhost:8080/"
        },
        "id": "auKZxH8x_Zb_",
        "outputId": "02015978-e210-4e11-afb4-caac265135bc"
      },
      "execution_count": null,
      "outputs": [
        {
          "output_type": "stream",
          "name": "stdout",
          "text": [
            "Epoch 1/5\n",
            "9/9 [==============================] - 16s 2s/step - loss: 0.5455 - accuracy: 0.8333 - val_loss: 0.2234 - val_accuracy: 0.9143\n",
            "Epoch 2/5\n",
            "9/9 [==============================] - 11s 1s/step - loss: 0.0458 - accuracy: 0.9926 - val_loss: 0.2454 - val_accuracy: 0.9143\n",
            "Epoch 3/5\n",
            "9/9 [==============================] - 11s 1s/step - loss: 0.0175 - accuracy: 0.9963 - val_loss: 0.3161 - val_accuracy: 0.8857\n"
          ]
        }
      ]
    },
    {
      "cell_type": "code",
      "source": [
        "# Predict the label of the test_images\n",
        "pred = model.predict(test_images)\n",
        "pred = np.argmax(pred,axis=1)\n",
        "# Map the label\n",
        "labels = (train_images.class_indices)\n",
        "labels = dict((v,k) for k,v in labels.items())\n",
        "pred1 = [labels[k] for k in pred]\n",
        "pred1\n"
      ],
      "metadata": {
        "colab": {
          "base_uri": "https://localhost:8080/"
        },
        "id": "4h0BEq13ANzw",
        "outputId": "5bc84a59-b908-4252-a248-490cce6d51ce"
      },
      "execution_count": null,
      "outputs": [
        {
          "output_type": "stream",
          "name": "stdout",
          "text": [
            "2/2 [==============================] - 2s 90ms/step\n"
          ]
        },
        {
          "output_type": "execute_result",
          "data": {
            "text/plain": [
              "['banana',\n",
              " 'eggplant',\n",
              " 'apple',\n",
              " 'eggplant',\n",
              " 'eggplant',\n",
              " 'banana',\n",
              " 'apple',\n",
              " 'carrot',\n",
              " 'banana',\n",
              " 'eggplant',\n",
              " 'apple',\n",
              " 'banana',\n",
              " 'carrot',\n",
              " 'carrot',\n",
              " 'apple',\n",
              " 'eggplant',\n",
              " 'apple',\n",
              " 'banana',\n",
              " 'banana',\n",
              " 'carrot',\n",
              " 'carrot',\n",
              " 'banana',\n",
              " 'eggplant',\n",
              " 'carrot',\n",
              " 'apple',\n",
              " 'eggplant',\n",
              " 'carrot',\n",
              " 'eggplant',\n",
              " 'banana',\n",
              " 'apple',\n",
              " 'apple',\n",
              " 'carrot',\n",
              " 'carrot',\n",
              " 'eggplant',\n",
              " 'eggplant']"
            ]
          },
          "metadata": {},
          "execution_count": 20
        }
      ]
    },
    {
      "cell_type": "code",
      "source": [
        "def output(location):\n",
        "    img=load_img(location,target_size=(224,224,3))\n",
        "    img=img_to_array(img)\n",
        "    img=img/255\n",
        "    img=np.expand_dims(img,[0])\n",
        "    answer=model.predict(img)\n",
        "    y_class = answer.argmax(axis=-1)\n",
        "    y = \" \".join(str(x) for x in y_class)\n",
        "    y = int(y)\n",
        "    res = labels[y]\n",
        "    return res"
      ],
      "metadata": {
        "id": "bvbG-RHXAVYG"
      },
      "execution_count": null,
      "outputs": []
    },
    {
      "cell_type": "code",
      "source": [
        "img = output('../content/final/test/carrot/Image_1.jpg')\n",
        "img\n"
      ],
      "metadata": {
        "colab": {
          "base_uri": "https://localhost:8080/",
          "height": 53
        },
        "id": "gtbqjyEgAhx2",
        "outputId": "996468ae-d91f-4d41-d7b4-82d6f7f8f283"
      },
      "execution_count": null,
      "outputs": [
        {
          "output_type": "stream",
          "name": "stdout",
          "text": [
            "1/1 [==============================] - 0s 20ms/step\n"
          ]
        },
        {
          "output_type": "execute_result",
          "data": {
            "text/plain": [
              "'carrot'"
            ],
            "application/vnd.google.colaboratory.intrinsic+json": {
              "type": "string"
            }
          },
          "metadata": {},
          "execution_count": 24
        }
      ]
    },
    {
      "cell_type": "code",
      "source": [
        "model.save('FV.h5')"
      ],
      "metadata": {
        "id": "KBWtxAZBAyVD"
      },
      "execution_count": null,
      "outputs": []
    },
    {
      "cell_type": "markdown",
      "source": [
        "**####Run streamlit app from a Google Colab Notebook###**"
      ],
      "metadata": {
        "id": "eGnAeWP9A4qS"
      }
    },
    {
      "cell_type": "code",
      "source": [
        "!pip install -q streamlit"
      ],
      "metadata": {
        "colab": {
          "base_uri": "https://localhost:8080/"
        },
        "id": "cUKSaT2VA3K2",
        "outputId": "a8ca0dc8-8f1c-4da9-babf-c80d59e3a30f"
      },
      "execution_count": null,
      "outputs": [
        {
          "output_type": "stream",
          "name": "stdout",
          "text": [
            "\u001b[K     |████████████████████████████████| 9.2 MB 7.2 MB/s \n",
            "\u001b[K     |████████████████████████████████| 237 kB 75.0 MB/s \n",
            "\u001b[K     |████████████████████████████████| 78 kB 8.8 MB/s \n",
            "\u001b[K     |████████████████████████████████| 182 kB 72.3 MB/s \n",
            "\u001b[K     |████████████████████████████████| 164 kB 76.1 MB/s \n",
            "\u001b[K     |████████████████████████████████| 4.7 MB 55.4 MB/s \n",
            "\u001b[K     |████████████████████████████████| 62 kB 1.6 MB/s \n",
            "\u001b[K     |████████████████████████████████| 51 kB 7.7 MB/s \n",
            "\u001b[?25h  Building wheel for validators (setup.py) ... \u001b[?25l\u001b[?25hdone\n"
          ]
        }
      ]
    },
    {
      "cell_type": "code",
      "source": [
        "%%writefile app.py\n",
        "\n",
        "import streamlit as st\n",
        "from PIL import Image\n",
        "import requests\n",
        "from bs4 import BeautifulSoup\n",
        "\n",
        "\n",
        "labels = {0: 'apple', 1: 'banana', 2: 'beetroot', 3: 'bell pepper', 4: 'cabbage', 5: 'capsicum', 6: 'carrot',\n",
        "          7: 'cauliflower', 8: 'chilli pepper', 9: 'corn', 10: 'cucumber', 11: 'eggplant', 12: 'garlic', 13: 'ginger',\n",
        "          14: 'grapes', 15: 'jalepeno', 16: 'kiwi', 17: 'lemon', 18: 'lettuce',\n",
        "          19: 'mango', 20: 'onion', 21: 'orange', 22: 'paprika', 23: 'pear', 24: 'peas', 25: 'pineapple',\n",
        "          26: 'pomegranate', 27: 'potato', 28: 'raddish', 29: 'soy beans', 30: 'spinach', 31: 'sweetcorn',\n",
        "          32: 'sweetpotato', 33: 'tomato', 34: 'turnip', 35: 'watermelon'}\n",
        "\n",
        "fruits = ['Apple', 'Banana', 'Bello Pepper', 'Chilli Pepper', 'Grapes', 'Jalepeno', 'Kiwi', 'Lemon', 'Mango', 'Orange',\n",
        "          'Paprika', 'Pear', 'Pineapple', 'Pomegranate', 'Watermelon']\n",
        "vegetables = ['Beetroot', 'Cabbage', 'Capsicum', 'Carrot', 'Cauliflower', 'Corn', 'Cucumber', 'Eggplant', 'Ginger',\n",
        "              'Lettuce', 'Onion', 'Peas', 'Potato', 'Raddish', 'Soy Beans', 'Spinach', 'Sweetcorn', 'Sweetpotato',\n",
        "              'Tomato', 'Turnip']\n",
        "\n",
        "\n",
        "def fetch_calories(prediction):\n",
        "    try:\n",
        "        url = 'https://www.google.com/search?&q=calories in ' + prediction\n",
        "        req = requests.get(url).text\n",
        "        scrap = BeautifulSoup(req, 'html.parser')\n",
        "        calories = scrap.find(\"div\", class_=\"BNeawe iBp4i AP7Wnd\").text\n",
        "        return calories\n",
        "    except Exception as e:\n",
        "        st.error(\"Can't able to fetch the Calories\")\n",
        "        print(e)\n",
        "\n",
        "\n",
        "def run():\n",
        "    st.title(\"Food Image Detection\")\n",
        "    img_file = st.file_uploader(\"Choose an Image\", type=[\"jpg\", \"png\"])\n",
        "    if img_file is not None:\n",
        "        img = Image.open(img_file).resize((250, 250))\n",
        "        st.image(img, use_column_width=False)\n",
        "        save_image_path = './final/upload_images/' + img_file.name\n",
        "        with open(save_image_path, \"wb\") as f:\n",
        "            f.write(img_file.getbuffer())\n",
        "\n",
        "        # if st.button(\"Predict\"):\n",
        "        if img_file is not None:\n",
        "            # result = processed_img(save_image_path)\n",
        "            url = 'http://192.168.1.5:5000/predict'\n",
        "            form_data = {'file': open(save_image_path, 'rb')}\n",
        "            resp = requests.post(url, files=form_data)\n",
        "            resp_dict = resp.json()\n",
        "            result = resp_dict['prediction']\n",
        "            print(result)\n",
        "            if result in vegetables:\n",
        "                st.info('**Category : Vegetables**')\n",
        "            else:\n",
        "                st.info('**Category : Fruit**')\n",
        "            st.success(\"**Predicted : \" + result + '**')\n",
        "            cal = fetch_calories(result)\n",
        "            if cal:\n",
        "                st.warning('**' + cal + '(100 grams)**')\n",
        "\n",
        "\n",
        "run()"
      ],
      "metadata": {
        "colab": {
          "base_uri": "https://localhost:8080/"
        },
        "id": "F2-x5E5R-rmE",
        "outputId": "6b5b9aa2-be9a-4cc7-a850-ebed9b83c560"
      },
      "execution_count": 59,
      "outputs": [
        {
          "output_type": "stream",
          "name": "stdout",
          "text": [
            "Overwriting app.py\n"
          ]
        }
      ]
    },
    {
      "cell_type": "code",
      "source": [
        "# !pip uninstall -y Pillow\n",
        "# # install the new one\n",
        "# !pip install Pillow==5.3.0\n",
        "# # import the new one\n",
        "# import PIL\n",
        "# print(PIL.PILLOW_VERSION)"
      ],
      "metadata": {
        "id": "jM2RtifgEl5k"
      },
      "execution_count": 36,
      "outputs": []
    },
    {
      "cell_type": "code",
      "source": [
        "# from keras_preprocessing.image import img_to_array"
      ],
      "metadata": {
        "id": "Q7sxh-6MGLot"
      },
      "execution_count": 37,
      "outputs": []
    },
    {
      "cell_type": "code",
      "source": [
        "import streamlit as st\n",
        "from PIL import Image\n",
        "from keras_preprocessing.image import load_img, img_to_array\n",
        "import numpy as np\n",
        "from keras.models import load_model\n",
        "import requests\n",
        "from bs4 import BeautifulSoup\n",
        "\n",
        "model = load_model('FV.h5')\n",
        "labels = {0: 'apple', 1: 'banana', 2: 'beetroot', 3: 'bell pepper', 4: 'cabbage', 5: 'capsicum', 6: 'carrot',\n",
        "          7: 'cauliflower', 8: 'chilli pepper', 9: 'corn', 10: 'cucumber', 11: 'eggplant', 12: 'garlic', 13: 'ginger',\n",
        "          14: 'grapes', 15: 'jalepeno', 16: 'kiwi', 17: 'lemon', 18: 'lettuce',\n",
        "          19: 'mango', 20: 'onion', 21: 'orange', 22: 'paprika', 23: 'pear', 24: 'peas', 25: 'pineapple',\n",
        "          26: 'pomegranate', 27: 'potato', 28: 'raddish', 29: 'soy beans', 30: 'spinach', 31: 'sweetcorn',\n",
        "          32: 'sweetpotato', 33: 'tomato', 34: 'turnip', 35: 'watermelon'}\n",
        "\n",
        "fruits = ['Apple', 'Banana', 'Bello Pepper', 'Chilli Pepper', 'Grapes', 'Jalepeno', 'Kiwi', 'Lemon', 'Mango', 'Orange',\n",
        "          'Paprika', 'Pear', 'Pineapple', 'Pomegranate', 'Watermelon']\n",
        "vegetables = ['Beetroot', 'Cabbage', 'Capsicum', 'Carrot', 'Cauliflower', 'Corn', 'Cucumber', 'Eggplant', 'Ginger',\n",
        "              'Lettuce', 'Onion', 'Peas', 'Potato', 'Raddish', 'Soy Beans', 'Spinach', 'Sweetcorn', 'Sweetpotato',\n",
        "              'Tomato', 'Turnip']\n",
        "\n",
        "\n",
        "def fetch_calories(prediction):\n",
        "    try:\n",
        "        url = 'https://www.google.com/search?&q=calories in ' + prediction\n",
        "        req = requests.get(url).text\n",
        "        scrap = BeautifulSoup(req, 'html.parser')\n",
        "        calories = scrap.find(\"div\", class_=\"BNeawe iBp4i AP7Wnd\").text\n",
        "        return calories\n",
        "    except Exception as e:\n",
        "        st.error(\"Can't able to fetch the Calories\")\n",
        "        print(e)\n",
        "\n",
        "\n",
        "def processed_img(img_path):\n",
        "    img = load_img(img_path, target_size=(224, 224, 3))\n",
        "    img = img_to_array(img)\n",
        "    img = img / 255\n",
        "    img = np.expand_dims(img, [0])\n",
        "    answer = model.predict(img)\n",
        "    y_class = answer.argmax(axis=-1)\n",
        "    print(y_class)\n",
        "    y = \" \".join(str(x) for x in y_class)\n",
        "    y = int(y)\n",
        "    res = labels[y]\n",
        "    print(res)\n",
        "    return res.capitalize()\n",
        "\n",
        "\n",
        "def run():\n",
        "    st.title(\"Food Image Detection\")\n",
        "    img_file = st.file_uploader(\"Choose an Image\", type=[\"jpg\", \"png\"])\n",
        "    if img_file is not None:\n",
        "        img = Image.open(img_file).resize((250, 250))\n",
        "        st.image(img, use_column_width=False)\n",
        "        save_image_path = './final/upload_images/' + img_file.name\n",
        "        with open(save_image_path, \"wb\") as f:\n",
        "            f.write(img_file.getbuffer())\n",
        "\n",
        "        # if st.button(\"Predict\"):\n",
        "        if img_file is not None:\n",
        "            result = processed_img(save_image_path)\n",
        "            print(result)\n",
        "            if result in vegetables:\n",
        "                st.info('**Category : Vegetables**')\n",
        "            else:\n",
        "                st.info('**Category : Fruit**')\n",
        "            st.success(\"**Predicted : \" + result + '**')\n",
        "            cal = fetch_calories(result)\n",
        "            if cal:\n",
        "                st.warning('**' + cal + '(100 grams)**')\n",
        "\n",
        "\n",
        "run()"
      ],
      "metadata": {
        "id": "NX938C3MBh8i"
      },
      "execution_count": 58,
      "outputs": []
    },
    {
      "cell_type": "code",
      "source": [
        "!npm install localtunnel"
      ],
      "metadata": {
        "colab": {
          "base_uri": "https://localhost:8080/"
        },
        "id": "3vB7d1fJBrxO",
        "outputId": "8c424572-aa73-481a-c7db-62c130b4fe9f"
      },
      "execution_count": 41,
      "outputs": [
        {
          "output_type": "stream",
          "name": "stdout",
          "text": [
            "\u001b[K\u001b[?25h\u001b[37;40mnpm\u001b[0m \u001b[0m\u001b[30;43mWARN\u001b[0m \u001b[0m\u001b[35msaveError\u001b[0m ENOENT: no such file or directory, open '/content/package.json'\n",
            "\u001b[0m\u001b[37;40mnpm\u001b[0m \u001b[0m\u001b[30;43mWARN\u001b[0m \u001b[0m\u001b[35menoent\u001b[0m ENOENT: no such file or directory, open '/content/package.json'\n",
            "\u001b[0m\u001b[37;40mnpm\u001b[0m \u001b[0m\u001b[30;43mWARN\u001b[0m\u001b[35m\u001b[0m content No description\n",
            "\u001b[0m\u001b[37;40mnpm\u001b[0m \u001b[0m\u001b[30;43mWARN\u001b[0m\u001b[35m\u001b[0m content No repository field.\n",
            "\u001b[0m\u001b[37;40mnpm\u001b[0m \u001b[0m\u001b[30;43mWARN\u001b[0m\u001b[35m\u001b[0m content No README data\n",
            "\u001b[0m\u001b[37;40mnpm\u001b[0m \u001b[0m\u001b[30;43mWARN\u001b[0m\u001b[35m\u001b[0m content No license field.\n",
            "\u001b[0m\n",
            "+ localtunnel@2.0.2\n",
            "updated 1 package and audited 36 packages in 0.426s\n",
            "\n",
            "3 packages are looking for funding\n",
            "  run `npm fund` for details\n",
            "\n",
            "found \u001b[92m0\u001b[0m vulnerabilities\n",
            "\n"
          ]
        }
      ]
    },
    {
      "cell_type": "code",
      "source": [
        "!streamlit run /content/app.py &>/content/logs.txt &"
      ],
      "metadata": {
        "id": "22HREjXFB0-Z"
      },
      "execution_count": 60,
      "outputs": []
    },
    {
      "cell_type": "code",
      "source": [
        "!npx localtunnel --port 8501"
      ],
      "metadata": {
        "colab": {
          "base_uri": "https://localhost:8080/"
        },
        "id": "Sha7z4PjB3y5",
        "outputId": "a3dd2b14-b1f1-4918-c742-cc1a0dbcbec5"
      },
      "execution_count": 61,
      "outputs": [
        {
          "output_type": "stream",
          "name": "stdout",
          "text": [
            "\u001b[K\u001b[?25hnpx: installed 22 in 1.646s\n",
            "your url is: https://sad-pots-cough-34-83-179-101.loca.lt\n",
            "^C\n"
          ]
        }
      ]
    }
  ]
}